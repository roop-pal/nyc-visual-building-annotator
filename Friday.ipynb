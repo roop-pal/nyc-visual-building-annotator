{
 "cells": [
  {
   "cell_type": "code",
   "execution_count": 2,
   "metadata": {
    "collapsed": true
   },
   "outputs": [],
   "source": [
    "import numpy as np"
   ]
  },
  {
   "cell_type": "code",
   "execution_count": 3,
   "metadata": {
    "collapsed": true
   },
   "outputs": [],
   "source": [
    "# Patrick script\n",
    "\n",
    "# Input: Takes in the GML file \n",
    "# Output: A Dictionary indexed by Building Identification with attributes\n",
    "#         X (min, max), Y (min, max), Z (min, max), BIN, DOITT_ID, SOURCE_ID\n",
    "def parse(GML_file):\n",
    "    fp = open(GML_file)\n",
    "    buildings = dict()\n",
    "    current = None\n",
    "    for line in fp:\n",
    "        if \"bldg:Building\" in line:\n",
    "            raw_name = fp.readline()\n",
    "            bldg_id = raw_name.split('>')[1].split('<')[0]\n",
    "            buildings[bldg_id] = dict()\n",
    "            buildings[bldg_id][\"X\"] = [float(\"inf\"),-float(\"inf\")]\n",
    "            buildings[bldg_id][\"Y\"] = [float(\"inf\"),-float(\"inf\")]\n",
    "            buildings[bldg_id][\"Z\"] = [float(\"inf\"),-float(\"inf\")]\n",
    "            current = bldg_id\n",
    "        if \"/bldg:Building\" in line:\n",
    "            current = None\n",
    "        if \"BIN\" in line:\n",
    "            raw_value = fp.readline()\n",
    "            bld_id = raw_value.split('>')[1].split('<')[0]\n",
    "            buildings[current]['BIN'] = bld_id\n",
    "        if \"DOITT_ID\" in line:\n",
    "            raw_value = fp.readline()\n",
    "            bld_id = raw_value.split('>')[1].split('<')[0]\n",
    "            buildings[current]['DOITT_ID'] = bld_id\n",
    "        if \"SOURCE_ID\" in line:\n",
    "            raw_value = fp.readline()\n",
    "            bld_id = raw_value.split('>')[1].split('<')[0]\n",
    "            buildings[current]['SOURCE_ID'] = bld_id\n",
    "        if \"<gml:posList>\" in line and \"</gml:posList>\" in line:\n",
    "            points = line.split('>')[1].split('<')[0]\n",
    "            points = points.split(' ')\n",
    "            for p in range(len(points)//3):\n",
    "                x = float(points[3*p])\n",
    "                y = float(points[3*p+1])\n",
    "                z = float(points[3*p+2])\n",
    "                if x > buildings[bldg_id][\"X\"][1]:\n",
    "                    buildings[bldg_id][\"X\"][1] = x\n",
    "                if x < buildings[bldg_id][\"X\"][0]:\n",
    "                    buildings[bldg_id][\"X\"][0] = x\n",
    "                if y > buildings[bldg_id][\"Y\"][1]:\n",
    "                    buildings[bldg_id][\"Y\"][1] = y\n",
    "                if y < buildings[bldg_id][\"Y\"][0]:\n",
    "                    buildings[bldg_id][\"Y\"][0] = y\n",
    "                if z > buildings[bldg_id][\"Z\"][1]:\n",
    "                    buildings[bldg_id][\"Z\"][1] = z\n",
    "                if z < buildings[bldg_id][\"Z\"][0]:\n",
    "                    buildings[bldg_id][\"Z\"][0] = z\n",
    "    return buildings"
   ]
  },
  {
   "cell_type": "code",
   "execution_count": 4,
   "metadata": {
    "collapsed": true
   },
   "outputs": [],
   "source": [
    "# Input: Takes in the GML file \n",
    "# Output: A dictionary with key = Building Identification (e.g. Bldg_12210009096) \n",
    "#         and value = [(X1, Y1, Z1), (X2, Y2, Z2), etc.] for each polygon that makes up the building\n",
    "def parseAllCoordinates(GML_file):\n",
    "    fp = open(GML_file)\n",
    "    buildings = dict()\n",
    "    current = None\n",
    "    for line in fp:\n",
    "        if \"bldg:Building\" in line:\n",
    "            raw_name = fp.readline()\n",
    "            bldg_id = raw_name.split('>')[1].split('<')[0]\n",
    "            buildings[bldg_id] = dict()\n",
    "            buildings[bldg_id] = []\n",
    "            current = bldg_id\n",
    "        if \"<gml:posList>\" in line and \"</gml:posList>\" in line:\n",
    "            points = line.split('>')[1].split('<')[0]\n",
    "            points = points.split(' ')\n",
    "            polygon = []\n",
    "            for p in range(len(points)//3):\n",
    "                x = float(points[3*p])\n",
    "                y = float(points[3*p+1])\n",
    "                z = float(points[3*p+2])\n",
    "                polygon.append((x,y,z))\n",
    "            buildings[current].append(polygon)\n",
    "        if \"/bldg:Building\" in line:\n",
    "            current = None\n",
    "                \n",
    "    return buildings"
   ]
  },
  {
   "cell_type": "code",
   "execution_count": 5,
   "metadata": {
    "collapsed": true
   },
   "outputs": [],
   "source": [
    "# Makes homography to map from coordinate system to Latitude/Longitude\n",
    "# Just for the 12th GML File \n",
    "def train_homography(dictionary):\n",
    "\t# Manually measured latitude and longitude for 5 buildings\n",
    "\tnew_lat_long = np.array([[40.712994,74.013227], [40.748629,73.985807],[40.751655,73.975488],[40.702138,74.012065],[40.769110,73.981620]])\n",
    "\n",
    "\t# Test Buildings in Coordinate System\n",
    "\tOne_World_Trade = dictionary['Bldg_21510003972']\n",
    "\tEmpire_State = dictionary['Bldg_12210009096']\n",
    "\tChrysler = dictionary['Bldg_12210010508']\n",
    "\tNew_York_Plaza = dictionary['Bldg_21210000601']\n",
    "\tTrump_Int = dictionary['Bldg_12210018998']\n",
    "\n",
    "\t# Build Source Points\n",
    "\tBuildings = [One_World_Trade, Empire_State, Chrysler, New_York_Plaza, Trump_Int]\n",
    "\tsrc_data = [[(i['X'][0]+i['X'][1])/2,(i['Y'][0]+i['Y'][1])/2] for i in Buildings]\n",
    "\n",
    "\t# Compute Homography\n",
    "\tH = compute_homography(np.matrix(src_data),new_lat_long)\n",
    "\treturn H "
   ]
  },
  {
   "cell_type": "code",
   "execution_count": 6,
   "metadata": {
    "collapsed": true
   },
   "outputs": [],
   "source": [
    "# From Homework 4\n",
    "def apply_homography(src, H):\n",
    "    # Applies a homography H onto the source points, src.\n",
    "    #\n",
    "    # Input:\n",
    "    #     src: source points, shape (n, 2)\n",
    "    #     H: homography from source points to destination points, shape (3, 3)\n",
    "    # Output:\n",
    "    #     dst: destination points, shape (n, 2)\n",
    "    final = np.zeros_like(src)\n",
    "    for i in range(len(src)):\n",
    "        transform = np.append(src[i],[[1]],1)\n",
    "        result = np.dot(H,transform.T)\n",
    "        result /= result[2]\n",
    "        final[i] = result.T[:,:2]\n",
    "    return final"
   ]
  },
  {
   "cell_type": "code",
   "execution_count": 7,
   "metadata": {
    "collapsed": true
   },
   "outputs": [],
   "source": [
    "# From Homework 4\n",
    "def compute_homography(src, dst):\n",
    "    # This function computes the homography from src to dst.\n",
    "    #\n",
    "    # Input:\n",
    "    #     src: source points, shape (n, 2)\n",
    "    #     dst: destination points, shape (n, 2)\n",
    "    # Output:\n",
    "    #     H: homography from source points to destination points, shape (3, 3)\n",
    "    \n",
    "    A = np.zeros([2*src.shape[0], 9])\n",
    "    for i in range(src.shape[0]):\n",
    "        A[2*i, :] = np.array([src[i,0],src[i,1],1,0,0,0,\n",
    "                              -dst[i,0]*src[i,0],-dst[i,0]*src[i,1],-dst[i,0]])\n",
    "        A[2*i+1, :] = np.array([0,0,0,src[i,0],src[i,1],1,\n",
    "                                -dst[i,1]*src[i,0],-dst[i,1]*src[i,1],-dst[i,1]])\n",
    "    \n",
    "    w, v = np.linalg.eig(np.dot(A.T, A))\n",
    "    index = np.argmin(w)\n",
    "    H = v[:, index].reshape([3,3])\n",
    "    return H"
   ]
  },
  {
   "cell_type": "code",
   "execution_count": 8,
   "metadata": {},
   "outputs": [
    {
     "name": "stdout",
     "output_type": "stream",
     "text": [
      "24039\n"
     ]
    }
   ],
   "source": [
    "GML_file = '/Users/mogryzko/Desktop/nyc-visual-building-annotator/DA12_3D_Buildings_Merged.gml'\n",
    "\n",
    "building_pts = parse(GML_file)\n",
    "building_polys = parseAllCoordinates(GML_file)\n",
    "print(len(building_polys))\n",
    "\n"
   ]
  },
  {
   "cell_type": "code",
   "execution_count": 9,
   "metadata": {},
   "outputs": [
    {
     "name": "stdout",
     "output_type": "stream",
     "text": [
      "[[40.74847984 73.9858314 ]]\n"
     ]
    }
   ],
   "source": [
    "H = train_homography(building_pts)\n",
    "# Test Case: This is the Castle Clinton National Monument\n",
    "#test = building_pts['Bldg_12210022273']\n",
    "# Empire state building test\n",
    "test = building_pts['Bldg_12210009096']\n",
    "#print(np.matrix([(test['X'][0]+test['X'][1])/2,(test['Y'][0]+test['Y'][1])/2]))\n",
    "print(apply_homography(np.matrix([(test['X'][0]+test['X'][1])/2,(test['Y'][0]+test['Y'][1])/2]),H))"
   ]
  },
  {
   "cell_type": "code",
   "execution_count": 10,
   "metadata": {},
   "outputs": [
    {
     "name": "stdout",
     "output_type": "stream",
     "text": [
      "[[122872.51881295 214119.49784516]]\n"
     ]
    }
   ],
   "source": [
    "print(apply_homography(np.matrix([40.7664542, -73.9767703]),np.linalg.inv(H)))"
   ]
  },
  {
   "cell_type": "code",
   "execution_count": 11,
   "metadata": {
    "collapsed": true
   },
   "outputs": [],
   "source": [
    "H_to_gml_coor = np.linalg.inv(H)"
   ]
  },
  {
   "cell_type": "code",
   "execution_count": 12,
   "metadata": {
    "collapsed": true
   },
   "outputs": [],
   "source": [
    "def rotation_matrix(x,y,z):\n",
    "    # x,y,z = 0 when phone is flat on table with top facing east \n",
    "    # normalize from -1 to 1 to 0 to 2pi\n",
    "    \n",
    "    theta = x,y,z\n",
    "    \n",
    "    theta = [axis % 2 * np.pi for axis in theta]\n",
    "    \n",
    "    \n",
    "    R_x = np.array([[1,               0,                0],\n",
    "                    [0,np.cos(theta[0]),-np.sin(theta[0])],\n",
    "                    [0,np.sin(theta[0]), np.cos(theta[0])]\n",
    "                    ])\n",
    "                     \n",
    "    R_y = np.array([[np.cos(theta[1]),    0,      np.sin(theta[1])  ],\n",
    "                    [0,                   1,          0             ],\n",
    "                    [-np.sin(theta[1]),   0,      np.cos(theta[1])  ]\n",
    "                    ])\n",
    "                 \n",
    "    R_z = np.array([[np.cos(theta[2]),  -np.sin(theta[2]),    0],\n",
    "                    [np.sin(theta[2]),   np.cos(theta[2]),    0],\n",
    "                    [0,                     0,                1]\n",
    "                    ])\n",
    "                     \n",
    "                     \n",
    "    R = np.dot(R_z, np.dot( R_y, R_x ))\n",
    " \n",
    "    return R"
   ]
  },
  {
   "cell_type": "code",
   "execution_count": 13,
   "metadata": {
    "collapsed": true
   },
   "outputs": [],
   "source": [
    "def translation_vector(lat,long,alt,H):\n",
    "    x = int(apply_homography(np.matrix([lat, long]),H)[0,0])\n",
    "    y = int(apply_homography(np.matrix([lat, long]),H)[0,1])\n",
    "    T = np.array([[x],[y],[-alt]])\n",
    "    return T"
   ]
  },
  {
   "cell_type": "code",
   "execution_count": 50,
   "metadata": {
    "collapsed": true
   },
   "outputs": [],
   "source": [
    "def camera_matrix(R,T, focal_len, pixel_size, center_x, center_y): \n",
    "    fx = focal_len/pixel_size\n",
    "    fy = focal_len/pixel_size\n",
    "    intrinsic_matrix = np.array([[fx,0,center_x],\n",
    "                            [0,fy,center_y],\n",
    "                            [0,0,1]])\n",
    "    extrinsic_matrix = np.append(R,T,axis=1)\n",
    "    camera_matrix = np.matmul(intrinsic_matrix, extrinsic_matrix)\n",
    "    return camera_matrix\n"
   ]
  },
  {
   "cell_type": "code",
   "execution_count": 143,
   "metadata": {
    "collapsed": true
   },
   "outputs": [],
   "source": [
    "def extract(s):\n",
    "    pixel_size = s[s.find('PixelSizeMm') + 13:]\n",
    "    pixel_size = float(pixel_size[:pixel_size.find(' ')])\n",
    "    #edit\n",
    "    pixel_size = 0.00122\n",
    "    focal_length = s[s.find('FocalMm') + 9:]\n",
    "    focal_length = float(focal_length[:focal_length.find('\"')])\n",
    "    #edit\n",
    "    focal_length = 25\n",
    "    fx = focal_length/pixel_size\n",
    "    fy = focal_length/pixel_size\n",
    "    intrinsic_matrix = np.array([[fx,0,445],\n",
    "                            [0,fy,295],\n",
    "                            [0,0,1]])\n",
    "    rotation_matrix = s[s.find('RotationMatrix') + 16:]\n",
    "    rm = [float(i) for i in rotation_matrix[:rotation_matrix.find('\"')].split(' ')[:-1]]\n",
    "    R = np.array([rm[:3],rm[4:7],rm[8:11]])\n",
    "    #edit\n",
    "    #R = np.linalg.inv(R)\n",
    "    translation_vector = s[s.find('TranslationVector') + 19:]\n",
    "    T = np.array([[float(i)] for i in translation_vector[:translation_vector.find('\"')].split(' ')[:-1]])\n",
    "    extrinsic_matrix = np.append(R,T,axis=1)\n",
    "\n",
    "    camera_matrix = np.matmul(intrinsic_matrix, extrinsic_matrix)\n",
    "    return camera_matrix"
   ]
  },
  {
   "cell_type": "code",
   "execution_count": 207,
   "metadata": {},
   "outputs": [],
   "source": [
    "import numpy as np\n",
    "import matplotlib.pyplot as plt\n",
    "import cv2\n",
    "\n",
    "def projection(H,bldg_id,x,y,z,lat,long,alt=77.6,focal_length=29,pixel_size=0.00122,view_x = 3024,view_y = 4032):\n",
    "    center_x,center_y = view_x//2, view_y//2\n",
    "\n",
    "    R = rotation_matrix(x,y,z)\n",
    "    \n",
    "    T = translation_vector(lat,long,alt,H)\n",
    "    x_offset,y_offset,z_offset = T[0],T[1],T[2]\n",
    "    T = np.array([[0], [0], [0]])\n",
    "\n",
    "    C = camera_matrix(R, T, focal_length, pixel_size, center_x, center_y)\n",
    "\n",
    "    twoD_pts = []\n",
    "    for polygon in building_polys[bldg_id]:\n",
    "        poly_pts = np.zeros((len(polygon),2))\n",
    "        for idx, pt in enumerate(polygon):\n",
    "            pt = np.array(pt)\n",
    "            pt[0] -= x_offset\n",
    "            pt[1] -= y_offset\n",
    "            pt[2] -= z_offset\n",
    "            new_pt = np.append(pt,np.array([1]), axis=0)\n",
    "            new_pt = np.matmul(C,new_pt)\n",
    "            new_pt = new_pt[:2]/new_pt[2]\n",
    "            poly_pts[idx] = new_pt\n",
    "        twoD_pts.append(poly_pts)\n",
    "\n",
    "    new_img = np.zeros((view_y, view_x))\n",
    "    for poly in twoD_pts:\n",
    "        poly = poly.astype(int)\n",
    "        for pt in poly:\n",
    "            if not(0 < pt[0] < view_x) and not(0 < pt[1] < view_y):\n",
    "                continue\n",
    "        cv2.fillPoly(new_img, pts=[poly], color=(255,255,255))\n",
    "    flipped_new = np.fliplr(new_img)\n",
    "    nonzero = cv2.findNonZero(flipped_new.astype('uint8'))\n",
    "    nonzero = nonzero.reshape((nonzero.shape[0],nonzero.shape[2]))\n",
    "    final = flipped_new[np.min(nonzero[:,1]):np.max(nonzero[:,1]),np.min(nonzero[:,0]):np.max(nonzero[:,0])]\n",
    "    return final"
   ]
  },
  {
   "cell_type": "code",
   "execution_count": 122,
   "metadata": {},
   "outputs": [
    {
     "name": "stdout",
     "output_type": "stream",
     "text": [
      "[[ 0.897064   -0.441798   -0.00952429]\n",
      " [ 0.0776641   0.136405    0.987604  ]\n",
      " [-0.435022   -0.886684    0.156676  ]]\n",
      "[[-9.87285e+05]\n",
      " [-2.09991e+05]\n",
      " [-6.14687e+02]]\n"
     ]
    },
    {
     "data": {
      "text/plain": [
       "array([[ 1.83824590e+04, -9.05323770e+03, -1.95169877e+02,\n",
       "        -2.02312500e+10],\n",
       "       [ 1.59147746e+03,  2.79518443e+03,  2.02377869e+04,\n",
       "        -4.30309426e+09],\n",
       "       [-4.35022000e-01, -8.86684000e-01,  1.56676000e-01,\n",
       "        -6.14687000e+02]])"
      ]
     },
     "execution_count": 122,
     "metadata": {},
     "output_type": "execute_result"
    }
   ],
   "source": [
    "extract('''<!DOCTYPE ViewState>\n",
    "<project>\n",
    " <VCGCamera RotationMatrix=\"0.897064 -0.441798 -0.00952429 0 0.0776641 0.136405 0.987604 0 -0.435022 -0.886684 0.156676 0 0 0 0 1 \" ViewportPx=\"977 590\" CameraType=\"0\" PixelSizeMm=\"0.0369161 0.0369161\" LensDistortion=\"0 0\" FocalMm=\"18.8625\" CenterPx=\"488 295\" TranslationVector=\"-987285 -209991 -614.687 1\"/>\n",
    " <ViewSettings NearPlane=\"0.909327\" FarPlane=\"81.6353\" TrackScale=\"0.00142562\"/>\n",
    "</project>\n",
    "''')"
   ]
  },
  {
   "cell_type": "code",
   "execution_count": 94,
   "metadata": {},
   "outputs": [
    {
     "data": {
      "image/png": "[encoded data removed]",
      "text/plain": [
       "<matplotlib.figure.Figure at 0x142ced0b8>"
      ]
     },
     "metadata": {},
     "output_type": "display_data"
    }
   ],
   "source": [
    "# Testing getting more detail from the building\n",
    "\n",
    "\n",
    "import numpy as np\n",
    "import matplotlib.pyplot as plt\n",
    "import cv2\n",
    "\n",
    "# trump tower building\n",
    "bldg_id = 'Bldg_12210018998'\n",
    "\n",
    "#Trump tower last picture (pic 5)\n",
    "x = 0.59157\n",
    "y = -0.59825\n",
    "z = -0.33803\n",
    "lat = 40.7686776\n",
    "long = -73.9815132\n",
    "alt = 70 #guess based on meshlab\n",
    "focal_length = 25\n",
    "pixel_size = 0.00122\n",
    "\n",
    "'''\n",
    "R = rotation_matrix(x,y,z)\n",
    "#T = translation_vector(lat,long,alt,H_to_gml_coor)\n",
    "T = np.array([[--989945], [-219059], [-817.984]])\n",
    "'''\n",
    "\n",
    "R = np.array([[0.421304, 0.906849, 0.0112592], [0.486668, -0.236538, 0.840955], [0.765282, -0.348819, -0.540989]]) \n",
    "\n",
    "T = np.array([[-990086],[-219136],[301.662]])\n",
    "\n",
    "\n",
    "\n",
    "C = camera_matrix(R, T, focal_length, pixel_size)\n",
    "\n",
    "total_num_pts = 0\n",
    "for polygon in building_polys[bldg_id]:\n",
    "    total_num_pts += len(polygon)\n",
    "\n",
    "all_2D_pts = np.zeros((total_num_pts,2)) # for np.max and np.min\n",
    "\n",
    "\n",
    "twoD_pts = []\n",
    "all_idx = 0\n",
    "for polygon in building_polys[bldg_id]:\n",
    "    poly_pts = np.zeros((len(polygon),2))\n",
    "    for idx, pt in enumerate(polygon):\n",
    "        new_pt = np.append(np.array(pt),np.array([1]), axis=0)\n",
    "        new_pt = np.matmul(C,new_pt)\n",
    "        new_pt = new_pt[:2]/new_pt[2]\n",
    "        poly_pts[idx] = new_pt\n",
    "        all_2D_pts[all_idx] = new_pt #for np.max and np.min\n",
    "        all_idx += 1\n",
    "    twoD_pts.append(poly_pts)\n",
    "    \n",
    "max_x = np.max(all_2D_pts[:,0])\n",
    "min_x = np.min(all_2D_pts[:,0])\n",
    "max_y = np.max(all_2D_pts[:,1])\n",
    "min_y = np.min(all_2D_pts[:,1])\n",
    "\n",
    "# adjust pts to fit within window\n",
    "\n",
    "if min_x < 0:\n",
    "    for poly in twoD_pts:\n",
    "        poly[:,0] -= min_x\n",
    "    all_2D_pts[:,0] -= min_x\n",
    "if min_y < 0:\n",
    "    for poly in twoD_pts:\n",
    "        poly[:,1] -= min_y\n",
    "    all_2D_pts[:,1] -= min_y\n",
    "\n",
    "max_x = np.max(all_2D_pts[:,0])\n",
    "min_x = np.min(all_2D_pts[:,0])\n",
    "max_y = np.max(all_2D_pts[:,1])\n",
    "min_y = np.min(all_2D_pts[:,1])\n",
    "\n",
    "\n",
    "\n",
    "scale = (max_y-min_y) / 1000\n",
    "\n",
    "new_img = np.zeros((1001, int((max_x-min_x)/scale)+1))\n",
    "\n",
    "for idx,poly in enumerate(twoD_pts):\n",
    "    poly[:,0] -= min_x\n",
    "    poly[:,0] /= scale\n",
    "    poly[:,1] -= min_y\n",
    "    poly[:,1] /= scale\n",
    "    twoD_pts[idx] = poly.astype(int)\n",
    "\n",
    "\n",
    "for poly in twoD_pts:\n",
    "    poly = np.int32(poly)\n",
    "    #cv2.polylines(new_img,[poly],False,(255,255,255))\n",
    "    cv2.fillPoly(new_img, pts=[poly], color=(255,255,255))\n",
    "    cv2.polylines(new_img,[poly],1,(0,255,255))\n",
    "\n",
    "      \n",
    "plt.figure(figsize=(20,10))\n",
    "\n",
    "plt.imshow(new_img,cmap='gray')\n",
    "plt.show()"
   ]
  },
  {
   "cell_type": "code",
   "execution_count": null,
   "metadata": {
    "collapsed": true
   },
   "outputs": [],
   "source": []
  }
 ],
 "metadata": {
  "kernelspec": {
   "display_name": "Python 3",
   "language": "python",
   "name": "python3"
  },
  "language_info": {
   "codemirror_mode": {
    "name": "ipython",
    "version": 3
   },
   "file_extension": ".py",
   "mimetype": "text/x-python",
   "name": "python",
   "nbconvert_exporter": "python",
   "pygments_lexer": "ipython3",
   "version": "3.6.3"
  }
 },
 "nbformat": 4,
 "nbformat_minor": 2
}
